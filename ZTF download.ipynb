{
 "cells": [
  {
   "cell_type": "code",
   "execution_count": 1,
   "metadata": {},
   "outputs": [],
   "source": [
    "%load_ext autoreload\n",
    "%autoreload 2\n",
    "from imports import *\n",
    "from simcodes.helpers import *\n",
    "%run simcodes/MultiBandSim.py\n",
    "import os\n",
    "import folders\n",
    "import tqdm.notebook\n",
    "import pandas as pd\n",
    "import matplotlib.pyplot as plt\n",
    "subtypes = {'RRAB':'fundamental mode','RRC':'first-overtone','RRD':'double-mode','ARRD':'anomalous double-mode','CEP':'classical','T2CEP':'type-II','ACEP':'anomalous',\n",
    "           'DSCT_SXPHE':'δ Scuti or SX Phoenicis','MIRA_SR':'Mira or Semiregular'}"
   ]
  },
  {
   "cell_type": "code",
   "execution_count": 5,
   "metadata": {},
   "outputs": [
    {
     "data": {
      "text/plain": [
       "'/mnt/beegfs/scratch-noraid/ktisanic/data/PeriodFinding/'"
      ]
     },
     "execution_count": 5,
     "metadata": {},
     "output_type": "execute_result"
    }
   ],
   "source": [
    "folders.scratch_folder"
   ]
  },
  {
   "cell_type": "code",
   "execution_count": 1,
   "metadata": {},
   "outputs": [],
   "source": [
    "\n",
    "Gaia = pd.read_csv('data/gaia_periodic_sources.csv',index_col=0)\n",
    "for col,tocol in zip(['pf','pf.1','p1_o','p2_o','p3_o','p1_o.1','p2_o.1','p3_o.1',],['Period','Period','Period 1','Period 2','Period 3','Period 1','Period 2','Period 3']):\n",
    "    Gaia.loc[~Gaia[col].isna(),tocol] = Gaia.loc[~Gaia[col].isna(),col]\n",
    "for col,tocol in zip(['frequency','frequency.1'],['Period','Period']):\n",
    "    Gaia.loc[~Gaia[col].isna(),tocol] = 1/Gaia.loc[~Gaia[col].isna(),col]\n"
   ]
  },
  {
   "cell_type": "code",
   "execution_count": 2,
   "metadata": {},
   "outputs": [
    {
     "name": "stdout",
     "output_type": "stream",
     "text": [
      "                                        Period         176096  48.382 %\n",
      "                                        Period 1        29379   8.072 %\n",
      "                                        Period 2          138   0.038 %\n",
      "                                        Period 3            5   0.001 %\n",
      "                           no Period    Period 1        27580   7.578 %\n",
      "                           no Period    Period 2           68   0.019 %\n",
      "                           no Period    Period 3            5   0.001 %\n",
      "              no Period    no Period 1  Period 2            0   0.000 %\n",
      "              no Period    no Period 1  Period 3            0   0.000 %\n",
      "              no Period    no Period 2  Period 3            5   0.001 %\n",
      "              no Period    Period 1     no Period 2     27512   7.559 %\n",
      "              no Period    Period 1     no Period 3     27575   7.576 %\n",
      "              no Period    Period 2     no Period 3        68   0.019 %\n",
      "              no Period    Period 1     Period 2           68   0.019 %\n",
      "              no Period    Period 1     Period 3            5   0.001 %\n",
      "              no Period    Period 2     Period 3            0   0.000 %\n",
      " no Period    no Period 1  no Period 2  Period 3            0   0.000 %\n",
      " no Period    no Period 1  no Period 2  no Period 3    160293  44.040 %\n",
      " Period       Period 1     Period 2     Period 3       203676  55.960 %\n"
     ]
    }
   ],
   "source": [
    "plist = ['Period','Period 1', 'Period 2', 'Period 3']\n",
    "N = Gaia.shape[0]\n",
    "for i, p1 in enumerate(plist):\n",
    "    stat  = (~Gaia[p1].isna() ).sum()\n",
    "    k =  ['','',  \"\", p1, stat,100*stat/N]\n",
    "    if stat>0:\n",
    "                print( \" %-12s %-12s %-12s %-12s %8d %7.3f\"%tuple(k),'%' )\n",
    "for i, p1 in enumerate(plist[:1]):\n",
    "    for j, p2 in enumerate(plist[i+1:]):\n",
    "        stat = (Gaia[p1].isna() & (~Gaia[p2].isna())).sum()\n",
    "        k =  ['','',  'no '+p1, p2, stat,100*stat/N]\n",
    "        if stat>0:\n",
    "                print( \" %-12s %-12s %-12s %-12s %8d %7.3f\"%tuple(k),'%' )\n",
    "    j = i+1\n",
    "    p2 = plist[i+1]\n",
    "    for j, p2 in enumerate(plist[i+1:-1]):\n",
    "        for k, p3 in enumerate(plist[i+j+2:]):\n",
    "            stat =  (Gaia[p1].isna() & Gaia[p2].isna() & (~Gaia[p3].isna())).sum()\n",
    "            k =  ['','no '+p1, 'no '+p2, p3,stat,100*stat/N]\n",
    "            if stat>-1:\n",
    "                print( \" %-12s %-12s %-12s %-12s %8d %7.3f\"%tuple(k),'%' )\n",
    "    for j, p2 in enumerate(plist[i+1:-1]):\n",
    "        for k, p3 in enumerate(plist[i+j+2:]):\n",
    "            stat =  (Gaia[p1].isna() & Gaia[p3].isna() & (~Gaia[p2].isna())).sum()\n",
    "            k =  ['','no '+p1, p2, 'no '+p3,stat,100*stat/N]\n",
    "            if stat>-1:\n",
    "                print( \" %-12s %-12s %-12s %-12s %8d %7.3f\"%tuple(k),'%' )\n",
    "    for j, p2 in enumerate(plist[i+1:-1]):\n",
    "        for k, p3 in enumerate(plist[i+j+2:]):\n",
    "            stat =  (Gaia[p1].isna() & (~Gaia[p2].isna()) & (~Gaia[p3].isna())).sum()\n",
    "            k =  ['','no '+p1, p2, p3,stat,100*stat/N]\n",
    "            if stat>-1:\n",
    "                print( \" %-12s %-12s %-12s %-12s %8d %7.3f\"%tuple(k),'%' )\n",
    "stat = (Gaia[plist[0]].isna() & Gaia[plist[1]].isna() & (Gaia[plist[2]].isna())& (~Gaia[plist[3]].isna())).sum()\n",
    "k = ['no '+p for p in plist[:-1]]+plist[-1:]+[stat,100*stat/N]\n",
    "print( \" %-12s %-12s %-12s %-12s %8d %7.3f\"%tuple(k),'%' )\n",
    "stat = (Gaia[plist[0]].isna() & Gaia[plist[1]].isna() & (Gaia[plist[2]].isna())& (Gaia[plist[3]].isna())).sum()\n",
    "k = ['no '+p for p in plist]+[stat,100*stat/N]\n",
    "print( \" %-12s %-12s %-12s %-12s %8d %7.3f\"%tuple(k),'%' )\n",
    "stat = (~(Gaia[plist[0]].isna() & Gaia[plist[1]].isna() & (Gaia[plist[2]].isna())& (Gaia[plist[3]].isna()))).sum()\n",
    "k = plist+[stat,100*stat/N]\n",
    "print( \" %-12s %-12s %-12s %-12s %8d %7.3f\"%tuple(k),'%' )\n",
    "cut = (~Gaia['Period'].isna()) \n",
    "Gaia.loc[cut,'Period any'] = Gaia.loc[cut,'Period']\n",
    "cut = Gaia['Period'].isna() & (~Gaia['Period 1'].isna()) \n",
    "Gaia.loc[cut,'Period any'] = Gaia.loc[cut,'Period 1']\n",
    "cut = Gaia['Period'].isna() &  Gaia['Period 1'].isna() & (~Gaia['Period 2'].isna()) \n",
    "Gaia.loc[cut,'Period any'] = Gaia.loc[cut,'Period 2']\n",
    "cut = Gaia['Period'].isna() &  Gaia['Period 1'].isna() & Gaia['Period 2'].isna() & (~Gaia['Period 3'].isna()) \n",
    "Gaia.loc[cut,'Period any'] = Gaia.loc[cut,'Period 3']\n",
    "for types in ['CEP','RR','MIRA','DSCT_SXPHE','MIRA_SR']:\n",
    "    Gaia.loc[Gaia.loc[:,'best_class_name'].str.contains(types),'Type'] = types\n",
    "\n",
    "for key,val in subtypes.items():\n",
    "    Gaia.loc[Gaia.loc[:,'best_class_name']==key,'Subtype'] = val\n",
    "Gaia.to_csv(folders.data_folder+'gaia_periodic_sources.csv')"
   ]
  },
  {
   "cell_type": "code",
   "execution_count": 10,
   "metadata": {},
   "outputs": [
    {
     "data": {
      "text/html": [
       "<div>\n",
       "<style scoped>\n",
       "    .dataframe tbody tr th:only-of-type {\n",
       "        vertical-align: middle;\n",
       "    }\n",
       "\n",
       "    .dataframe tbody tr th {\n",
       "        vertical-align: top;\n",
       "    }\n",
       "\n",
       "    .dataframe thead th {\n",
       "        text-align: right;\n",
       "    }\n",
       "</style>\n",
       "<table border=\"1\" class=\"dataframe\">\n",
       "  <thead>\n",
       "    <tr style=\"text-align: right;\">\n",
       "      <th></th>\n",
       "      <th>Subtype</th>\n",
       "      <th>source_id</th>\n",
       "      <th>Percent</th>\n",
       "      <th>Period any</th>\n",
       "      <th>Percent (Period)</th>\n",
       "      <th>best_class_name</th>\n",
       "    </tr>\n",
       "    <tr>\n",
       "      <th>Type</th>\n",
       "      <th></th>\n",
       "      <th></th>\n",
       "      <th></th>\n",
       "      <th></th>\n",
       "      <th></th>\n",
       "      <th></th>\n",
       "    </tr>\n",
       "  </thead>\n",
       "  <tbody>\n",
       "    <tr>\n",
       "      <th>CEP</th>\n",
       "      <td>anomalous</td>\n",
       "      <td>50</td>\n",
       "      <td>0.09</td>\n",
       "      <td>50</td>\n",
       "      <td>100.0</td>\n",
       "      <td>ACEP</td>\n",
       "    </tr>\n",
       "    <tr>\n",
       "      <th>CEP</th>\n",
       "      <td>classical</td>\n",
       "      <td>21</td>\n",
       "      <td>0.04</td>\n",
       "      <td>21</td>\n",
       "      <td>100.0</td>\n",
       "      <td>CEP</td>\n",
       "    </tr>\n",
       "    <tr>\n",
       "      <th>CEP</th>\n",
       "      <td>type-II</td>\n",
       "      <td>203</td>\n",
       "      <td>0.37</td>\n",
       "      <td>203</td>\n",
       "      <td>100.0</td>\n",
       "      <td>T2CEP</td>\n",
       "    </tr>\n",
       "    <tr>\n",
       "      <th>MIRA_SR</th>\n",
       "      <td>Mira or Semiregular</td>\n",
       "      <td>25577</td>\n",
       "      <td>46.90</td>\n",
       "      <td>25577</td>\n",
       "      <td>100.0</td>\n",
       "      <td>MIRA_SR</td>\n",
       "    </tr>\n",
       "    <tr>\n",
       "      <th>RR</th>\n",
       "      <td>anomalous double-mode</td>\n",
       "      <td>6</td>\n",
       "      <td>0.01</td>\n",
       "      <td>6</td>\n",
       "      <td>100.0</td>\n",
       "      <td>ARRD</td>\n",
       "    </tr>\n",
       "    <tr>\n",
       "      <th>RR</th>\n",
       "      <td>fundamental mode</td>\n",
       "      <td>21896</td>\n",
       "      <td>40.15</td>\n",
       "      <td>21896</td>\n",
       "      <td>100.0</td>\n",
       "      <td>RRAB</td>\n",
       "    </tr>\n",
       "    <tr>\n",
       "      <th>RR</th>\n",
       "      <td>first-overtone</td>\n",
       "      <td>6669</td>\n",
       "      <td>12.23</td>\n",
       "      <td>6669</td>\n",
       "      <td>100.0</td>\n",
       "      <td>RRC</td>\n",
       "    </tr>\n",
       "    <tr>\n",
       "      <th>RR</th>\n",
       "      <td>double-mode</td>\n",
       "      <td>113</td>\n",
       "      <td>0.21</td>\n",
       "      <td>113</td>\n",
       "      <td>100.0</td>\n",
       "      <td>RRD</td>\n",
       "    </tr>\n",
       "  </tbody>\n",
       "</table>\n",
       "</div>"
      ],
      "text/plain": [
       "                       Subtype  source_id  Percent  Period any  \\\n",
       "Type                                                             \n",
       "CEP                  anomalous         50     0.09          50   \n",
       "CEP                  classical         21     0.04          21   \n",
       "CEP                    type-II        203     0.37         203   \n",
       "MIRA_SR    Mira or Semiregular      25577    46.90       25577   \n",
       "RR       anomalous double-mode          6     0.01           6   \n",
       "RR            fundamental mode      21896    40.15       21896   \n",
       "RR              first-overtone       6669    12.23        6669   \n",
       "RR                 double-mode        113     0.21         113   \n",
       "\n",
       "         Percent (Period) best_class_name  \n",
       "Type                                       \n",
       "CEP                 100.0            ACEP  \n",
       "CEP                 100.0             CEP  \n",
       "CEP                 100.0           T2CEP  \n",
       "MIRA_SR             100.0         MIRA_SR  \n",
       "RR                  100.0            ARRD  \n",
       "RR                  100.0            RRAB  \n",
       "RR                  100.0             RRC  \n",
       "RR                  100.0             RRD  "
      ]
     },
     "execution_count": 10,
     "metadata": {},
     "output_type": "execute_result"
    }
   ],
   "source": [
    "k1=Gaia.groupby(Gaia['best_class_name']).count()[['source_id','Period any']]\n",
    "k1=k1.join(Gaia.set_index('best_class_name')[['Type','Subtype']].drop_duplicates(),on='best_class_name').reset_index().set_index('Type')\n",
    "k1['Percent'] = round(100*k1['source_id']/Gaia.shape[0],2)\n",
    "k1['Percent (Period)'] = round(100*k1['Period any']/k1['source_id'],2)\n",
    "k1[['Subtype','source_id','Percent','Period any','Percent (Period)','best_class_name']].sort_index()"
   ]
  },
  {
   "cell_type": "code",
   "execution_count": 15,
   "metadata": {},
   "outputs": [
    {
     "data": {
      "text/plain": [
       "best_class_name\n",
       "ACEP         1.459709\n",
       "ARRD         0.422249\n",
       "CEP          3.971503\n",
       "MIRA_SR    348.653228\n",
       "RRAB         0.569415\n",
       "RRC          0.332568\n",
       "RRD          0.401925\n",
       "T2CEP       13.206388\n",
       "Name: Period any, dtype: float64"
      ]
     },
     "execution_count": 15,
     "metadata": {},
     "output_type": "execute_result"
    },
    {
     "data": {
      "image/png": "[encoded data removed]",
      "text/plain": [
       "<Figure size 432x288 with 1 Axes>"
      ]
     },
     "metadata": {
      "needs_background": "light"
     },
     "output_type": "display_data"
    }
   ],
   "source": [
    "Gaia = pd.read_csv(folders.data_folder+'ZTF_dr3_all_Gaia_3s')\\\n",
    "         .dropna(subset=['Period any'])\\\n",
    "         .sort_values(['Type','Subtype'])\\\n",
    "         .reset_index(drop=True)\n",
    "Gaia['best_class_name'].hist()\n",
    "plt.yscale('log')\n",
    "Gaia.groupby('best_class_name').mean()['Period any']"
   ]
  },
  {
   "cell_type": "code",
   "execution_count": 17,
   "metadata": {},
   "outputs": [
    {
     "data": {
      "text/plain": [
       "nan"
      ]
     },
     "execution_count": 17,
     "metadata": {},
     "output_type": "execute_result"
    }
   ],
   "source": [
    "Gaia.loc[658,'in ZTF 3_arcsec']\n",
    "import os\n",
    "import tqdm.notebook\n",
    "import urllib\n",
    "import time\n",
    "Gaia = pd.read_csv(folders.data_folder+'ZTF_dr3_all_Gaia_3s')\\\n",
    "         .dropna(subset=['Period any'])\\\n",
    "         .sort_values(['Type','Subtype'])\\\n",
    "         .reset_index(drop=True)\n",
    "sizes = {str(i)+'_arcsec':\"%.5f\"%(i/3600) for i in range(3,4)}"
   ]
  },
  {
   "cell_type": "code",
   "execution_count": null,
   "metadata": {},
   "outputs": [
    {
     "data": {
      "application/vnd.jupyter.widget-view+json": {
       "model_id": "a36c6ee2bea24d93b9d5d0b5833eecb4",
       "version_major": 2,
       "version_minor": 0
      },
      "text/plain": [
       "HBox(children=(FloatProgress(value=0.0, max=53877.0), HTML(value='')))"
      ]
     },
     "metadata": {},
     "output_type": "display_data"
    }
   ],
   "source": [
    "\n",
    "\n",
    "for size,sizef in sizes.items():\n",
    "    for idx,row in tqdm.notebook.tqdm(Gaia.loc[658:,:].iterrows(),total=Gaia.loc[658:,:].shape[0]):\n",
    "        url = r\"https://irsa.ipac.caltech.edu/cgi-bin/ZTF/nph_light_curves?POS=CIRCLE%20\"\\\n",
    "             +f\"{row['ra_1']}\"\\\n",
    "             +r\"%20\"\\\n",
    "             +f\"{row['dec_1']}\"\\\n",
    "             +r\"%20\"\\\n",
    "             +sizef\\\n",
    "             +\"&BANDNAME=g,r,i&FORMAT=CSV\"\n",
    "        tries = 0\n",
    "        filename = folders.data_folder+\"ZTF/\"+size+f\"/{row['source_id']}.csv\"\n",
    "        wait = 0\n",
    "        for tries in range(10):\n",
    "            try:\n",
    "                urllib.request.urlretrieve(url, filename)\n",
    "                L =  pd.read_csv(filename).shape[0]\n",
    "                break\n",
    "            except urllib.error.HTTPError:\n",
    "                wait+=15\n",
    "                L = 0\n",
    "                time.sleep(wait)\n",
    "                \n",
    "        Gaia.loc[idx, 'in ZTF '+size] = L\n",
    "        if L==0:\n",
    "                os.remove(filename)\n",
    "        with open('log_download.txt','a') as f:\n",
    "                print(idx,L,row['Type'],row['Subtype'],tries,wait,file=f,sep=',')\n",
    "        Gaia.to_csv(folders.data_folder+'Gaia_temp.csv')\n",
    "Gaia.to_csv(folders.data_folder+'Gaia_ZTF_dr3_3arcsec_all.csv')"
   ]
  },
  {
   "cell_type": "code",
   "execution_count": 36,
   "metadata": {},
   "outputs": [
    {
     "name": "stdout",
     "output_type": "stream",
     "text": [
      "<class 'pandas.core.frame.DataFrame'>\n",
      "RangeIndex: 54535 entries, 0 to 54534\n",
      "Data columns (total 29 columns):\n",
      " #   Column                Non-Null Count  Dtype  \n",
      "---  ------                --------------  -----  \n",
      " 0   ra_1                  54535 non-null  float64\n",
      " 1   dec_1                 54535 non-null  float64\n",
      " 2   col1                  54535 non-null  int64  \n",
      " 3   source_id             54535 non-null  int64  \n",
      " 4   best_class_name       54535 non-null  object \n",
      " 5   best_class_score      54535 non-null  float64\n",
      " 6   ra_2                  54535 non-null  float64\n",
      " 7   dec_2                 54535 non-null  float64\n",
      " 8   pf                    274 non-null    float64\n",
      " 9   p1_o                  60 non-null     float64\n",
      " 10  p2_o                  6 non-null      float64\n",
      " 11  p3_o                  0 non-null      float64\n",
      " 12  frequency             25577 non-null  float64\n",
      " 13  pf.1                  21811 non-null  float64\n",
      " 14  p1_o.1                7240 non-null   float64\n",
      " 15  p2_o.1                0 non-null      float64\n",
      " 16  p3_o.1                0 non-null      float64\n",
      " 17  frequency.1           20 non-null     float64\n",
      " 18  epoch_photometry_url  54535 non-null  object \n",
      " 19  in ZTF                274 non-null    float64\n",
      " 20  Period                47668 non-null  float64\n",
      " 21  Period 1              7300 non-null   float64\n",
      " 22  Period 2              6 non-null      float64\n",
      " 23  Period 3              0 non-null      float64\n",
      " 24  Period any            54535 non-null  float64\n",
      " 25  Type                  54535 non-null  object \n",
      " 26  Subtype               54535 non-null  object \n",
      " 27  Separation            54535 non-null  float64\n",
      " 28  in ZTF 3_arcsec       9598 non-null   float64\n",
      "dtypes: float64(23), int64(2), object(4)\n",
      "memory usage: 12.1+ MB\n"
     ]
    }
   ],
   "source": [
    "Gaia.info()"
   ]
  }
 ],
 "metadata": {
  "kernelspec": {
   "display_name": "Python 3",
   "language": "python",
   "name": "python3"
  },
  "language_info": {
   "codemirror_mode": {
    "name": "ipython",
    "version": 3
   },
   "file_extension": ".py",
   "mimetype": "text/x-python",
   "name": "python",
   "nbconvert_exporter": "python",
   "pygments_lexer": "ipython3",
   "version": "3.8.3"
  }
 },
 "nbformat": 4,
 "nbformat_minor": 4
}
