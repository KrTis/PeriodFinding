{
 "cells": [
  {
   "cell_type": "code",
   "execution_count": 2,
   "metadata": {},
   "outputs": [],
   "source": [
    "%load_ext autoreload\n",
    "%autoreload 2\n",
    "from imports import *\n",
    "%run simcodes/MultiBandSim.py"
   ]
  },
  {
   "cell_type": "code",
   "execution_count": 62,
   "metadata": {},
   "outputs": [
    {
     "name": "stdout",
     "output_type": "stream",
     "text": [
      "OGLE-BLG-RRLYR-00001\n",
      "OGLE-BLG-RRLYR-00002\n"
     ]
    }
   ],
   "source": [
    "stars = pd.read_csv('data/query_1610017978.44685i.txt',skiprows=6,sep='\\t')\n",
    "stars['field']=stars['# ID'].str.split('-').apply(lambda x:x[1])\n",
    "stars['Iband']=stars['# ID'].apply(lambda x:'data/ogle/I/'+x+'.dat')\n",
    "stars['Vband']=stars['# ID'].apply(lambda x:'data/ogle/V/'+x+'.dat')\n",
    "stars = stars[stars['field']=='BLG']\n",
    "Analysis = pd.DataFrame()\n",
    "Nreps = 10\n",
    "Percents = np.arange(0.5,1.,0.1)\n",
    "for i in stars.index[:2]:\n",
    "    print(stars.loc[i,'# ID'])\n",
    "    inds = []\n",
    "    try:\n",
    "        Iband = pd.read_csv(stars.loc[i,'Iband'],names=['t','mag','magerr'],sep=' ')\n",
    "        Iband['filt'] = 'I'\n",
    "        inds.append(0)\n",
    "    except:\n",
    "        print('No I')\n",
    "        Iband = None\n",
    "    try:\n",
    "        Vband = pd.read_csv(stars.loc[i,'Vband'],names=['t','mag','magerr'],sep=' ')\n",
    "        Vband['filt']= 'V'\n",
    "        inds.append(1)\n",
    "    except:\n",
    "        print('No V')\n",
    "        Vband=None\n",
    "    if len(inds)==2:\n",
    "        D=pd.concat([Iband,Vband])\n",
    "    elif len(inds)==1:\n",
    "        D = [Iband,Vband][inds[0]]\n",
    "    else:\n",
    "        continue\n",
    "    file = 'data/ogle/sources/'+stars.loc[i,'# ID']+'.dat'\n",
    "    D.to_csv(file)\n",
    "    N_I = (D['filt']=='I').count()\n",
    "    N_V = (D['filt']=='V').count()\n",
    "    Nmax = max(N_I, N_V)\n",
    "    Sim = MCSimulation('data/ogle/sources/', stars.loc[i,'P_1'], file)\n",
    "    sims=np.unique(np.round(Nmax*Percents).astype(int))\n",
    "    Sim.produce_bootstrap(sims,Nreps)\n",
    "    Sim.run_simulation('fast', )\n",
    "    Stat = Sim.Simulated_periods.groupby('N').agg(['mean','std'])\n",
    "    Dict = {'Name':stars.loc[i,'# ID'],'OGLE period':stars.loc[i,'P_1'],'LS period':Sim.best_fitting[1],'N_I':N_I,'N_V':N_V}\n",
    "    for ind, name,Per in zip(Stat.index,sims,Percents):\n",
    "        Dict[f'{name} mean'] = Stat.loc[ind,('P','mean')]\n",
    "        Dict[f'{name} std'] = Stat.loc[ind,('P','std')]\n",
    "    Analysis = Analysis.append(Dict,ignore_index=True)"
   ]
  },
  {
   "cell_type": "code",
   "execution_count": 59,
   "metadata": {},
   "outputs": [
    {
     "data": {
      "text/plain": [
       "0.06289062472265827"
      ]
     },
     "execution_count": 59,
     "metadata": {},
     "output_type": "execute_result"
    }
   ],
   "source": [
    "Sim.Simulated_periods.groupby('N').agg(['mean','std']).loc[60,('P','std')]"
   ]
  },
  {
   "cell_type": "code",
   "execution_count": 29,
   "metadata": {},
   "outputs": [],
   "source": [
    "for i in range(5):\n",
    "    if True:\n",
    "        continue\n",
    "    print('A')"
   ]
  },
  {
   "cell_type": "code",
   "execution_count": 58,
   "metadata": {},
   "outputs": [
    {
     "ename": "AttributeError",
     "evalue": "'dict' object has no attribute 'append'",
     "output_type": "error",
     "traceback": [
      "\u001b[0;31m---------------------------------------------------------------------------\u001b[0m",
      "\u001b[0;31mAttributeError\u001b[0m                            Traceback (most recent call last)",
      "\u001b[0;32m<ipython-input-58-21249704bf7a>\u001b[0m in \u001b[0;36m<module>\u001b[0;34m\u001b[0m\n\u001b[0;32m----> 1\u001b[0;31m \u001b[0;34m{\u001b[0m\u001b[0;34m}\u001b[0m\u001b[0;34m.\u001b[0m\u001b[0mappend\u001b[0m\u001b[0;34m(\u001b[0m\u001b[0;34m{\u001b[0m\u001b[0;34m'a'\u001b[0m\u001b[0;34m:\u001b[0m\u001b[0;36m5\u001b[0m\u001b[0;34m}\u001b[0m\u001b[0;34m)\u001b[0m\u001b[0;34m\u001b[0m\u001b[0;34m\u001b[0m\u001b[0m\n\u001b[0m",
      "\u001b[0;31mAttributeError\u001b[0m: 'dict' object has no attribute 'append'"
     ]
    }
   ],
   "source": [
    "{}.append({'a':5})"
   ]
  },
  {
   "cell_type": "code",
   "execution_count": 61,
   "metadata": {},
   "outputs": [
    {
     "data": {
      "text/html": [
       "<div>\n",
       "<style scoped>\n",
       "    .dataframe tbody tr th:only-of-type {\n",
       "        vertical-align: middle;\n",
       "    }\n",
       "\n",
       "    .dataframe tbody tr th {\n",
       "        vertical-align: top;\n",
       "    }\n",
       "\n",
       "    .dataframe thead th {\n",
       "        text-align: right;\n",
       "    }\n",
       "</style>\n",
       "<table border=\"1\" class=\"dataframe\">\n",
       "  <thead>\n",
       "    <tr style=\"text-align: right;\">\n",
       "      <th></th>\n",
       "      <th>0.5 mean</th>\n",
       "      <th>0.5 std</th>\n",
       "      <th>0.6 mean</th>\n",
       "      <th>0.6 std</th>\n",
       "      <th>0.7 mean</th>\n",
       "      <th>0.7 std</th>\n",
       "      <th>0.7999999999999999 mean</th>\n",
       "      <th>0.7999999999999999 std</th>\n",
       "      <th>0.8999999999999999 mean</th>\n",
       "      <th>0.8999999999999999 std</th>\n",
       "      <th>LS period</th>\n",
       "      <th>N_I</th>\n",
       "      <th>N_V</th>\n",
       "      <th>Name</th>\n",
       "      <th>OGLE period</th>\n",
       "    </tr>\n",
       "  </thead>\n",
       "  <tbody>\n",
       "    <tr>\n",
       "      <th>0</th>\n",
       "      <td>0.672040</td>\n",
       "      <td>0.191350</td>\n",
       "      <td>0.606801</td>\n",
       "      <td>0.265112</td>\n",
       "      <td>0.609385</td>\n",
       "      <td>0.259660</td>\n",
       "      <td>0.609560</td>\n",
       "      <td>0.259297</td>\n",
       "      <td>0.732540</td>\n",
       "      <td>0.000031</td>\n",
       "      <td>0.732554</td>\n",
       "      <td>106.0</td>\n",
       "      <td>106.0</td>\n",
       "      <td>OGLE-BLG-RRLYR-00001</td>\n",
       "      <td>0.732588</td>\n",
       "    </tr>\n",
       "    <tr>\n",
       "      <th>1</th>\n",
       "      <td>0.215021</td>\n",
       "      <td>0.092099</td>\n",
       "      <td>0.266956</td>\n",
       "      <td>0.073321</td>\n",
       "      <td>0.281551</td>\n",
       "      <td>0.063178</td>\n",
       "      <td>0.281419</td>\n",
       "      <td>0.063597</td>\n",
       "      <td>0.265983</td>\n",
       "      <td>0.075067</td>\n",
       "      <td>0.301531</td>\n",
       "      <td>119.0</td>\n",
       "      <td>119.0</td>\n",
       "      <td>OGLE-BLG-RRLYR-00002</td>\n",
       "      <td>0.301534</td>\n",
       "    </tr>\n",
       "  </tbody>\n",
       "</table>\n",
       "</div>"
      ],
      "text/plain": [
       "   0.5 mean   0.5 std  0.6 mean   0.6 std  0.7 mean   0.7 std  \\\n",
       "0  0.672040  0.191350  0.606801  0.265112  0.609385  0.259660   \n",
       "1  0.215021  0.092099  0.266956  0.073321  0.281551  0.063178   \n",
       "\n",
       "   0.7999999999999999 mean  0.7999999999999999 std  0.8999999999999999 mean  \\\n",
       "0                 0.609560                0.259297                 0.732540   \n",
       "1                 0.281419                0.063597                 0.265983   \n",
       "\n",
       "   0.8999999999999999 std  LS period    N_I    N_V                  Name  \\\n",
       "0                0.000031   0.732554  106.0  106.0  OGLE-BLG-RRLYR-00001   \n",
       "1                0.075067   0.301531  119.0  119.0  OGLE-BLG-RRLYR-00002   \n",
       "\n",
       "   OGLE period  \n",
       "0     0.732588  \n",
       "1     0.301534  "
      ]
     },
     "execution_count": 61,
     "metadata": {},
     "output_type": "execute_result"
    }
   ],
   "source": [
    "Analysis"
   ]
  },
  {
   "cell_type": "code",
   "execution_count": null,
   "metadata": {},
   "outputs": [],
   "source": []
  }
 ],
 "metadata": {
  "kernelspec": {
   "display_name": "Python 3",
   "language": "python",
   "name": "python3"
  },
  "language_info": {
   "codemirror_mode": {
    "name": "ipython",
    "version": 3
   },
   "file_extension": ".py",
   "mimetype": "text/x-python",
   "name": "python",
   "nbconvert_exporter": "python",
   "pygments_lexer": "ipython3",
   "version": "3.8.3"
  }
 },
 "nbformat": 4,
 "nbformat_minor": 4
}
