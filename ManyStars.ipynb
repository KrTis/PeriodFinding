{
 "cells": [
  {
   "cell_type": "code",
   "execution_count": 1,
   "metadata": {},
   "outputs": [],
   "source": [
    "%load_ext autoreload\n",
    "%autoreload 2\n",
    "from imports import *\n",
    "%run simcodes/MultiBandSim.py"
   ]
  },
  {
   "cell_type": "code",
   "execution_count": null,
   "metadata": {},
   "outputs": [],
   "source": [
    "cluster = SSHCluster(\n",
    "                [\"dodo3\"],\n",
    "                connect_options={\"known_hosts\": None},\n",
    "                scheduler_options={\"port\": 0, \"dashboard_address\": \":8797\"}\n",
    "            )"
   ]
  },
  {
   "cell_type": "code",
   "execution_count": null,
   "metadata": {},
   "outputs": [
    {
     "name": "stderr",
     "output_type": "stream",
     "text": [
      "distributed.deploy.ssh - INFO - distributed.scheduler - INFO - -----------------------------------------------\n",
      "distributed.deploy.ssh - INFO - distributed.http.proxy - INFO - To route to workers diagnostics web server please install jupyter-server-proxy: python -m pip install jupyter-server-proxy\n",
      "distributed.deploy.ssh - INFO - /home/ktisanic/anaconda3/lib/python3.8/site-packages/distributed/node.py:151: UserWarning: Port 8797 is already in use.\n",
      "distributed.deploy.ssh - INFO - Perhaps you already have a cluster running?\n",
      "distributed.deploy.ssh - INFO - Hosting the HTTP server on port 38479 instead\n",
      "distributed.deploy.ssh - INFO - warnings.warn(\n",
      "distributed.deploy.ssh - INFO - distributed.scheduler - INFO - -----------------------------------------------\n",
      "distributed.deploy.ssh - INFO - distributed.scheduler - INFO - Clear task state\n",
      "distributed.deploy.ssh - INFO - distributed.scheduler - INFO -   Scheduler at: tcp://192.168.200.106:43761\n"
     ]
    },
    {
     "name": "stdout",
     "output_type": "stream",
     "text": [
      "OGLE-BLG-RRLYR-00001\t"
     ]
    }
   ],
   "source": [
    "stars = pd.read_csv('data/query_1610017978.44685i.txt',skiprows=6,sep='\\t')\n",
    "stars['field']=stars['# ID'].str.split('-').apply(lambda x:x[1])\n",
    "stars['Iband']=stars['# ID'].apply(lambda x:'data/ogle/I/'+x+'.dat')\n",
    "stars['Vband']=stars['# ID'].apply(lambda x:'data/ogle/V/'+x+'.dat')\n",
    "stars = stars[stars['field']=='BLG']\n",
    "Analysis = pd.DataFrame()\n",
    "Nreps = 10\n",
    "Percents = [20,25,30,35,40,45,50,100][:1]\n",
    "stats = ['mean','median','std','sem']\n",
    "cluster = SSHCluster(\n",
    "                [\"dodo3\"],\n",
    "                connect_options={\"known_hosts\": None},\n",
    "                scheduler_options={\"port\": 0, \"dashboard_address\": \":8797\"}\n",
    "            )\n",
    "for i in stars.index[:1]:\n",
    "        print(stars.loc[i,'# ID'],end='\\t')\n",
    "        inds = []\n",
    "        try:\n",
    "            Iband = pd.read_csv(stars.loc[i,'Iband'],names=['t','mag','magerr'],sep=' ')\n",
    "            Iband['filt'] = 'I'\n",
    "            inds.append(0)\n",
    "        except:\n",
    "            print('No I')\n",
    "            Iband = None\n",
    "        try:\n",
    "            Vband = pd.read_csv(stars.loc[i,'Vband'],names=['t','mag','magerr'],sep=' ')\n",
    "            Vband['filt']= 'V'\n",
    "            inds.append(1)\n",
    "        except:\n",
    "            print('No V')\n",
    "            Vband=None\n",
    "        if len(inds)==2:\n",
    "            D=pd.concat([Iband,Vband])\n",
    "        elif len(inds)==1:\n",
    "            D = [Iband,Vband][inds[0]]\n",
    "        else:\n",
    "            continue\n",
    "        file = 'data/ogle/sources/'+stars.loc[i,'# ID']+'.dat'\n",
    "        D.to_csv(file)\n",
    "        N_I = (D['filt']=='I').count()\n",
    "        N_V = (D['filt']=='V').count()\n",
    "        Nmax = N_I+ N_V\n",
    "        Sim = MCSimulation('data/ogle/sources/', stars.loc[i,'P_1'], file)\n",
    "        #sims=np.unique(np.round(Nmax*Percents).astype(int))\n",
    "        \n",
    "        \n",
    "        Dict = {'Name':stars.loc[i,'# ID'],'OGLE period':stars.loc[i,'P_1'],'LS period':Sim.best_fitting[1],'N_I':N_I,'N_V':N_V}\n",
    "        for Per in Percents:\n",
    "            ok = False\n",
    "            for _ in range(3):\n",
    "                try:\n",
    "                    Sim.produce_bootstrap([Per],Nreps)\n",
    "                    Sim.run_simulation('slow',cluster=cluster )\n",
    "                    Stat = Sim.Simulated_periods.groupby('N').agg(stats)\n",
    "                    ok = True\n",
    "                except:\n",
    "                    print(Per,'Fail',end='\\t')\n",
    "                if ok:\n",
    "                    for st in stats:\n",
    "                        Dict[f'{Per} '+st] = Stat.loc[Stat.index[0],('P',st)]\n",
    "                    break\n",
    "        print('ok')\n",
    "        Analysis = Analysis.append(Dict, ignore_index=True)"
   ]
  },
  {
   "cell_type": "code",
   "execution_count": null,
   "metadata": {},
   "outputs": [],
   "source": [
    "plt.errorbar(Analysis['OGLE period'],Analysis['100 median'],yerr=Analysis['100 sem'],fmt='.',label='N=100')\n",
    "#plt.errorbar(Analysis['OGLE period'],Analysis['20 median'],yerr=Analysis['20 sem'],fmt='.',label='N=20')\n",
    "plt.plot(*2*(np.linspace(0,1),))\n",
    "plt.legend()\n",
    "plt.figure()\n",
    "plt.errorbar(Analysis['OGLE period'],Analysis['100 median']/Analysis['OGLE period'],yerr=Analysis['100 sem']/Analysis['OGLE period'],fmt='.',label='N=100')\n",
    "plt.errorbar(Analysis['OGLE period'],Analysis['20 median']/Analysis['OGLE period'],yerr=Analysis['20 sem']/Analysis['OGLE period'],fmt='.',label='N=20')\n",
    "#plt.plot(*2*(np.linspace(0,1),))\n",
    "plt.legend()\n",
    "plt.axhline(1.)\n",
    "fig, ax = plt.subplots(1,1,figsize=(10,10))\n",
    "for s in ['20','50']:\n",
    "    ax.errorbar(np.log10(Analysis['100 median']/Analysis['OGLE period']),np.log10(Analysis[s+' median']/Analysis['OGLE period']),\n",
    "                 yerr=Analysis[s+' sem']/Analysis[s+' median']/np.log(10.),\n",
    "                 xerr=Analysis['100 sem']/Analysis['100 median']/np.log(10.),fmt='o',label='N='+s,elinewidth=0.5)\n",
    "#plt.plot(*2*(np.linspace(0,1),))\n",
    "ax.legend()\n",
    "ax.set_xlabel('log(N=100/OGLE)')\n",
    "ax.set_ylabel('log(N/OGLE)')\n",
    "ax.plot(*2*(np.linspace(-1,1),))"
   ]
  },
  {
   "cell_type": "code",
   "execution_count": 7,
   "metadata": {},
   "outputs": [
    {
     "name": "stdout",
     "output_type": "stream",
     "text": [
      "OGLE-BLG-RRLYR-00001\t"
     ]
    }
   ],
   "source": [
    "stars = pd.read_csv('data/query_1610017978.44685i.txt',skiprows=6,sep='\\t')\n",
    "stars['field']=stars['# ID'].str.split('-').apply(lambda x:x[1])\n",
    "stars['Iband']=stars['# ID'].apply(lambda x:'data/ogle/I/'+x+'.dat')\n",
    "stars['Vband']=stars['# ID'].apply(lambda x:'data/ogle/V/'+x+'.dat')\n",
    "stars = stars[stars['field']=='BLG']\n",
    "Analysis = pd.DataFrame()\n",
    "Nreps = 10\n",
    "Percents = [20,30,50,100]\n",
    "i=0\n",
    "print(stars.loc[stars.index[0],'# ID'],end='\\t')"
   ]
  },
  {
   "cell_type": "code",
   "execution_count": 22,
   "metadata": {},
   "outputs": [
    {
     "data": {
      "text/plain": [
       "Index(['100 mean', '100 median', '100 sem', '100 std', '20 mean', '20 median',\n",
       "       '20 sem', '20 std', '30 mean', '30 median', '30 sem', '30 std',\n",
       "       '50 mean', '50 median', '50 sem', '50 std', 'LS period', 'N_I', 'N_V',\n",
       "       'Name', 'OGLE period'],\n",
       "      dtype='object')"
      ]
     },
     "execution_count": 22,
     "metadata": {},
     "output_type": "execute_result"
    }
   ],
   "source": [
    "Analysis.columns"
   ]
  },
  {
   "cell_type": "code",
   "execution_count": 36,
   "metadata": {},
   "outputs": [
    {
     "data": {
      "text/plain": [
       "(array([1., 0., 0., 0., 0., 0., 0., 0., 1., 8.]),\n",
       " array([-4.42314970e-01, -3.98075684e-01, -3.53836398e-01, -3.09597111e-01,\n",
       "        -2.65357825e-01, -2.21118539e-01, -1.76879253e-01, -1.32639967e-01,\n",
       "        -8.84006807e-02, -4.41613946e-02,  7.78915876e-05]),\n",
       " <a list of 10 Patch objects>)"
      ]
     },
     "execution_count": 36,
     "metadata": {},
     "output_type": "execute_result"
    },
    {
     "data": {
      "image/png": "[encoded data removed]",
      "text/plain": [
       "<Figure size 432x288 with 1 Axes>"
      ]
     },
     "metadata": {
      "needs_background": "light"
     },
     "output_type": "display_data"
    }
   ],
   "source": [
    "plt.hist(Analysis['100 median']/Analysis['OGLE period']-1)\n",
    "plt.hist(Analysis['50 median']/Analysis['OGLE period']-1)\n",
    "\n",
    "plt.hist(Analysis['30 median']/Analysis['OGLE period']-1)\n",
    "plt.hist(Analysis['20 median']/Analysis['OGLE period']-1)"
   ]
  },
  {
   "cell_type": "code",
   "execution_count": null,
   "metadata": {},
   "outputs": [],
   "source": [
    "Analysis"
   ]
  },
  {
   "cell_type": "code",
   "execution_count": null,
   "metadata": {},
   "outputs": [],
   "source": []
  }
 ],
 "metadata": {
  "kernelspec": {
   "display_name": "Python 3",
   "language": "python",
   "name": "python3"
  },
  "language_info": {
   "codemirror_mode": {
    "name": "ipython",
    "version": 3
   },
   "file_extension": ".py",
   "mimetype": "text/x-python",
   "name": "python",
   "nbconvert_exporter": "python",
   "pygments_lexer": "ipython3",
   "version": "3.8.3"
  }
 },
 "nbformat": 4,
 "nbformat_minor": 4
}
