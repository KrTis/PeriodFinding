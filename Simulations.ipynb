{
 "cells": [
  {
   "cell_type": "code",
   "execution_count": 1,
   "metadata": {},
   "outputs": [],
   "source": [
    "%load_ext autoreload\n",
    "%autoreload 2"
   ]
  },
  {
   "cell_type": "code",
   "execution_count": 25,
   "metadata": {},
   "outputs": [],
   "source": [
    "\n",
    "from imports import *\n",
    "            \n",
    "from dask.distributed import Client, SSHCluster\n",
    "from IPython.core.display import display, HTML\n",
    "import dask.array as da\n",
    "\n"
   ]
  },
  {
   "cell_type": "code",
   "execution_count": 2,
   "metadata": {},
   "outputs": [
    {
     "name": "stderr",
     "output_type": "stream",
     "text": [
      "/home/ktisanic/anaconda3/lib/python3.8/site-packages/IPython/core/interactiveshell.py:3343: TableReplaceWarning: converted column 'oid' from integer to float\n",
      "  exec(code_obj, self.user_global_ns, self.user_ns)\n",
      "/home/ktisanic/anaconda3/lib/python3.8/site-packages/IPython/core/interactiveshell.py:3343: TableReplaceWarning: converted column 'expid' from integer to float\n",
      "  exec(code_obj, self.user_global_ns, self.user_ns)\n",
      "/home/ktisanic/anaconda3/lib/python3.8/site-packages/IPython/core/interactiveshell.py:3343: TableReplaceWarning: converted column 'catflags' from integer to float\n",
      "  exec(code_obj, self.user_global_ns, self.user_ns)\n",
      "/home/ktisanic/anaconda3/lib/python3.8/site-packages/IPython/core/interactiveshell.py:3343: TableReplaceWarning: converted column 'filefracday' from integer to float\n",
      "  exec(code_obj, self.user_global_ns, self.user_ns)\n",
      "/home/ktisanic/anaconda3/lib/python3.8/site-packages/IPython/core/interactiveshell.py:3343: TableReplaceWarning: converted column 'field' from integer to float\n",
      "  exec(code_obj, self.user_global_ns, self.user_ns)\n",
      "/home/ktisanic/anaconda3/lib/python3.8/site-packages/IPython/core/interactiveshell.py:3343: TableReplaceWarning: converted column 'ccdid' from integer to float\n",
      "  exec(code_obj, self.user_global_ns, self.user_ns)\n",
      "/home/ktisanic/anaconda3/lib/python3.8/site-packages/IPython/core/interactiveshell.py:3343: TableReplaceWarning: converted column 'qid' from integer to float\n",
      "  exec(code_obj, self.user_global_ns, self.user_ns)\n",
      "/home/ktisanic/anaconda3/lib/python3.8/site-packages/IPython/core/interactiveshell.py:3343: TableReplaceWarning: converted column 'programid' from integer to float\n",
      "  exec(code_obj, self.user_global_ns, self.user_ns)\n"
     ]
    },
    {
     "data": {
      "text/html": [
       "<div>\n",
       "<style scoped>\n",
       "    .dataframe tbody tr th:only-of-type {\n",
       "        vertical-align: middle;\n",
       "    }\n",
       "\n",
       "    .dataframe tbody tr th {\n",
       "        vertical-align: top;\n",
       "    }\n",
       "\n",
       "    .dataframe thead th {\n",
       "        text-align: right;\n",
       "    }\n",
       "</style>\n",
       "<table border=\"1\" class=\"dataframe\">\n",
       "  <thead>\n",
       "    <tr style=\"text-align: right;\">\n",
       "      <th></th>\n",
       "      <th>t</th>\n",
       "      <th>mag</th>\n",
       "      <th>magerr</th>\n",
       "    </tr>\n",
       "    <tr>\n",
       "      <th>filt</th>\n",
       "      <th></th>\n",
       "      <th></th>\n",
       "      <th></th>\n",
       "    </tr>\n",
       "  </thead>\n",
       "  <tbody>\n",
       "    <tr>\n",
       "      <th>I</th>\n",
       "      <td>69</td>\n",
       "      <td>69</td>\n",
       "      <td>69</td>\n",
       "    </tr>\n",
       "    <tr>\n",
       "      <th>b'zg'</th>\n",
       "      <td>200</td>\n",
       "      <td>200</td>\n",
       "      <td>200</td>\n",
       "    </tr>\n",
       "    <tr>\n",
       "      <th>b'zr'</th>\n",
       "      <td>225</td>\n",
       "      <td>225</td>\n",
       "      <td>225</td>\n",
       "    </tr>\n",
       "  </tbody>\n",
       "</table>\n",
       "</div>"
      ],
      "text/plain": [
       "         t  mag  magerr\n",
       "filt                   \n",
       "I       69   69      69\n",
       "b'zg'  200  200     200\n",
       "b'zr'  225  225     225"
      ]
     },
     "execution_count": 2,
     "metadata": {},
     "output_type": "execute_result"
    }
   ],
   "source": [
    "\n",
    "ztf = Table.read(data_+\"nph_light_curves?POS=CIRCLE 286.49621 16.098028 0.00055\")\n",
    "\n",
    "kwargs = {'format': 'ascii', 'names': ['t', 'mag', 'magerr', 'filt']}\n",
    "ogle = Table.read(data_+\"OGLE-GD-CEP-1442-I.dat\", **kwargs)\n",
    "\n",
    "\n",
    "ztf = ztf[ztf['oid']!=1585209400010477]\n",
    "    \n",
    "ztf['t'] = ztf['hjd']-2450000 - ztf['exptime']*0.5/(24*60*60)\n",
    "ztf['filt'] = list(map(str, ztf['filtercode'].data))\n",
    "\n",
    "df = vstack([ogle, ztf])\n",
    "df = df.to_pandas()\n",
    "df = df[['t','mag','magerr','filt']]\n",
    "df.to_csv(data_+'testing_MC.csv')\n",
    "df.groupby('filt').count()"
   ]
  },
  {
   "cell_type": "code",
   "execution_count": null,
   "metadata": {},
   "outputs": [
    {
     "name": "stderr",
     "output_type": "stream",
     "text": [
      "distributed.deploy.ssh - INFO - distributed.scheduler - INFO - -----------------------------------------------\n",
      "distributed.deploy.ssh - INFO - distributed.http.proxy - INFO - To route to workers diagnostics web server please install jupyter-server-proxy: python -m pip install jupyter-server-proxy\n",
      "distributed.deploy.ssh - INFO - /home/ktisanic/anaconda3/lib/python3.8/site-packages/distributed/node.py:151: UserWarning: Port 8797 is already in use.\n",
      "distributed.deploy.ssh - INFO - Perhaps you already have a cluster running?\n",
      "distributed.deploy.ssh - INFO - Hosting the HTTP server on port 35889 instead\n",
      "distributed.deploy.ssh - INFO - warnings.warn(\n",
      "distributed.deploy.ssh - INFO - distributed.scheduler - INFO - -----------------------------------------------\n",
      "distributed.deploy.ssh - INFO - distributed.scheduler - INFO - Clear task state\n",
      "distributed.deploy.ssh - INFO - distributed.scheduler - INFO -   Scheduler at: tcp://192.168.200.103:39383\n",
      "distributed.deploy.ssh - INFO - distributed.nanny - INFO -         Start Nanny at: 'tcp://192.168.200.110:39407'\n",
      "distributed.deploy.ssh - INFO - distributed.nanny - INFO -         Start Nanny at: 'tcp://192.168.200.109:43007'\n",
      "distributed.deploy.ssh - INFO - distributed.nanny - INFO -         Start Nanny at: 'tcp://192.168.200.104:36147'\n",
      "distributed.deploy.ssh - INFO - distributed.nanny - INFO -         Start Nanny at: 'tcp://192.168.200.105:33475'\n",
      "distributed.deploy.ssh - INFO - distributed.nanny - INFO -         Start Nanny at: 'tcp://192.168.200.108:43115'\n",
      "distributed.deploy.ssh - INFO - distributed.nanny - INFO -         Start Nanny at: 'tcp://192.168.200.107:37755'\n",
      "distributed.deploy.ssh - INFO - distributed.worker - INFO -       Start worker at: tcp://192.168.200.110:38269\n",
      "distributed.deploy.ssh - INFO - distributed.worker - INFO -       Start worker at: tcp://192.168.200.109:34143\n",
      "distributed.deploy.ssh - INFO - distributed.worker - INFO -       Start worker at: tcp://192.168.200.105:38935\n",
      "distributed.deploy.ssh - INFO - distributed.worker - INFO -       Start worker at: tcp://192.168.200.104:44761\n",
      "distributed.deploy.ssh - INFO - distributed.worker - INFO -       Start worker at: tcp://192.168.200.108:37663\n",
      "distributed.deploy.ssh - INFO - distributed.worker - INFO -       Start worker at: tcp://192.168.200.107:33113\n"
     ]
    },
    {
     "name": "stdout",
     "output_type": "stream",
     "text": [
      "34.3 s ± 770 ms per loop (mean ± std. dev. of 7 runs, 1 loop each)\n",
      "1min 13s ± 858 ms per loop (mean ± std. dev. of 7 runs, 1 loop each)\n",
      "3min 12s ± 11.1 s per loop (mean ± std. dev. of 7 runs, 1 loop each)\n"
     ]
    }
   ],
   "source": [
    "%run simcodes/MultiBandSim.py\n",
    "Sim = MCSimulation('data/', 3.27, 'data/testing_MC.csv')\n",
    "cluster = SSHCluster(\n",
    "                [\"lemur\",\"dodo1\",\"dodo2\",\"dodo4\", \"dodo5\", \"dodo6\", \"dodo7\"],\n",
    "                connect_options={\"known_hosts\": None},\n",
    "                scheduler_options={\"port\": 0, \"dashboard_address\": \":8797\"}\n",
    "            )\n",
    "%timeit Sim.run_simulation('fast', np.arange(5,50,10),10,cluster=cluster)\n",
    "%timeit Sim.run_simulation('fast', np.arange(5,50,10),10)\n",
    "%timeit Sim.run_simulation('slow', np.arange(5,50,10),10,cluster=cluster)\n"
   ]
  },
  {
   "cell_type": "markdown",
   "metadata": {},
   "source": [
    "#  Lomb Scargle Fast"
   ]
  },
  {
   "cell_type": "code",
   "execution_count": null,
   "metadata": {},
   "outputs": [
    {
     "name": "stderr",
     "output_type": "stream",
     "text": [
      "distributed.deploy.ssh - INFO - distributed.scheduler - INFO - -----------------------------------------------\n",
      "distributed.deploy.ssh - INFO - /home/ktisanic/anaconda3/lib/python3.8/site-packages/distributed/node.py:151: UserWarning: Port 8797 is already in use.\n",
      "distributed.deploy.ssh - INFO - Perhaps you already have a cluster running?\n",
      "distributed.deploy.ssh - INFO - Hosting the HTTP server on port 39641 instead\n",
      "distributed.deploy.ssh - INFO - warnings.warn(\n",
      "distributed.deploy.ssh - INFO - distributed.scheduler - INFO - -----------------------------------------------\n",
      "distributed.deploy.ssh - INFO - distributed.scheduler - INFO - Clear task state\n",
      "distributed.deploy.ssh - INFO - distributed.scheduler - INFO -   Scheduler at: tcp://192.168.200.103:34933\n",
      "distributed.deploy.ssh - INFO - distributed.nanny - INFO -         Start Nanny at: 'tcp://192.168.200.110:37515'\n",
      "distributed.deploy.ssh - INFO - distributed.nanny - INFO -         Start Nanny at: 'tcp://192.168.200.105:45169'\n",
      "distributed.deploy.ssh - INFO - distributed.nanny - INFO -         Start Nanny at: 'tcp://192.168.200.104:43687'\n",
      "distributed.deploy.ssh - INFO - distributed.nanny - INFO -         Start Nanny at: 'tcp://192.168.200.109:39165'\n",
      "distributed.deploy.ssh - INFO - distributed.nanny - INFO -         Start Nanny at: 'tcp://192.168.200.108:36139'\n",
      "distributed.deploy.ssh - INFO - distributed.nanny - INFO -         Start Nanny at: 'tcp://192.168.200.107:44255'\n",
      "distributed.deploy.ssh - INFO - distributed.worker - INFO -       Start worker at: tcp://192.168.200.110:43487\n",
      "distributed.deploy.ssh - INFO - distributed.worker - INFO -       Start worker at: tcp://192.168.200.105:46345\n",
      "distributed.deploy.ssh - INFO - distributed.worker - INFO -       Start worker at: tcp://192.168.200.109:39831\n",
      "distributed.deploy.ssh - INFO - distributed.worker - INFO -       Start worker at: tcp://192.168.200.104:34117\n",
      "distributed.deploy.ssh - INFO - distributed.worker - INFO -       Start worker at: tcp://192.168.200.107:39101\n",
      "distributed.deploy.ssh - INFO - distributed.worker - INFO -       Start worker at: tcp://192.168.200.108:41101\n"
     ]
    }
   ],
   "source": [
    "%run simcodes/MultiBandSim.py\n",
    "Sim = MCSimulation('data/', 3.27, 'data/testing_MC.csv')\n",
    "cluster = SSHCluster(\n",
    "                [\"lemur\",\"dodo1\",\"dodo2\",\"dodo4\", \"dodo5\", \"dodo6\", \"dodo7\"],\n",
    "                connect_options={\"known_hosts\": None},\n",
    "                scheduler_options={\"port\": 0, \"dashboard_address\": \":8797\"}\n",
    "            )\n",
    "sims=np.arange(5,100)\n",
    "Sim.produce_bootstrap(sims,1000)\n",
    "Sim.run_simulation('fast', cluster=cluster)\n",
    "Sim.save_simulations('outputs/')\n",
    "Sim.run_simulation('slow', cluster=cluster)\n",
    "Sim.save_simulations('outputs/')"
   ]
  },
  {
   "cell_type": "code",
   "execution_count": 27,
   "metadata": {},
   "outputs": [],
   "source": [
    "%run simcodes/MultiBandSim.py\n",
    "Sim = MCSimulation('data/', 3.27, 'data/testing_MC.csv')\n",
    "Sim.load_simulations('outputs/')"
   ]
  },
  {
   "cell_type": "code",
   "execution_count": 28,
   "metadata": {},
   "outputs": [
    {
     "data": {
      "image/png": "[encoded data removed]",
      "text/plain": [
       "<Figure size 360x360 with 1 Axes>"
      ]
     },
     "metadata": {
      "needs_background": "light"
     },
     "output_type": "display_data"
    }
   ],
   "source": [
    "def plot_lightcurve(lightcurve_p,Kbf):    \n",
    "    bins = pd.unique(lightcurve_p.index.get_level_values(1))[::4]\n",
    "    fig,ax = plt.subplots(1,bins.size,figsize=(5*bins.size,5))\n",
    "    ax = np.reshape(ax,-1)\n",
    "    for TYPE in pd.unique(pd.unique(lightcurve_p.index.get_level_values(0))):\n",
    "        for i,N in enumerate(bins):\n",
    "            for f in pd.unique(lightcurve_p.index.get_level_values(2)):\n",
    "                m = lightcurve_p.loc[(TYPE,N,f)]\n",
    "                _=ax[i].plot(m.index,m['p_50'])[0].get_color()\n",
    "                cut = Kbf[4]==f\n",
    "\n",
    "                ax[i].plot(Kbf[6][cut][0],Kbf[5][cut][0],color=_,ls='dashed')\n",
    "                ax[i].fill_between(m.index,m['p_16'],m['p_84'],alpha=0.5,color=_,label=f)\n",
    "            ax[i].legend()\n",
    "            ax[i].set_xlabel('Phase')\n",
    "            ax[i].set_ylabel('Magnitude')\n",
    "            ax[i].set_title(N)\n",
    "            ax[i].invert_yaxis()\n",
    "    fig.tight_layout()\n",
    "plot_lightcurve(Sim.lightcurve_p['fast'],Sim.best_fitting)"
   ]
  },
  {
   "cell_type": "code",
   "execution_count": 30,
   "metadata": {},
   "outputs": [
    {
     "data": {
      "text/html": [
       "<div>\n",
       "<style scoped>\n",
       "    .dataframe tbody tr th:only-of-type {\n",
       "        vertical-align: middle;\n",
       "    }\n",
       "\n",
       "    .dataframe tbody tr th {\n",
       "        vertical-align: top;\n",
       "    }\n",
       "\n",
       "    .dataframe thead th {\n",
       "        text-align: right;\n",
       "    }\n",
       "</style>\n",
       "<table border=\"1\" class=\"dataframe\">\n",
       "  <thead>\n",
       "    <tr style=\"text-align: right;\">\n",
       "      <th></th>\n",
       "      <th>p_16</th>\n",
       "      <th>p_50</th>\n",
       "      <th>p_84</th>\n",
       "      <th>max</th>\n",
       "      <th>min</th>\n",
       "      <th>sem</th>\n",
       "      <th>skewness</th>\n",
       "      <th>std</th>\n",
       "    </tr>\n",
       "    <tr>\n",
       "      <th>N</th>\n",
       "      <th></th>\n",
       "      <th></th>\n",
       "      <th></th>\n",
       "      <th></th>\n",
       "      <th></th>\n",
       "      <th></th>\n",
       "      <th></th>\n",
       "      <th></th>\n",
       "    </tr>\n",
       "  </thead>\n",
       "  <tbody>\n",
       "    <tr>\n",
       "      <th>5</th>\n",
       "      <td>0.112818</td>\n",
       "      <td>0.152934</td>\n",
       "      <td>0.174322</td>\n",
       "      <td>0.191115</td>\n",
       "      <td>0.108977</td>\n",
       "      <td>0.015445</td>\n",
       "      <td>0.068087</td>\n",
       "      <td>0.030891</td>\n",
       "    </tr>\n",
       "    <tr>\n",
       "      <th>55</th>\n",
       "      <td>3.270307</td>\n",
       "      <td>3.270386</td>\n",
       "      <td>3.270416</td>\n",
       "      <td>3.270448</td>\n",
       "      <td>3.270275</td>\n",
       "      <td>0.000030</td>\n",
       "      <td>-0.236837</td>\n",
       "      <td>0.000060</td>\n",
       "    </tr>\n",
       "  </tbody>\n",
       "</table>\n",
       "</div>"
      ],
      "text/plain": [
       "        p_16      p_50      p_84       max       min       sem  skewness  \\\n",
       "N                                                                          \n",
       "5   0.112818  0.152934  0.174322  0.191115  0.108977  0.015445  0.068087   \n",
       "55  3.270307  3.270386  3.270416  3.270448  3.270275  0.000030 -0.236837   \n",
       "\n",
       "         std  \n",
       "N             \n",
       "5   0.030891  \n",
       "55  0.000060  "
      ]
     },
     "metadata": {},
     "output_type": "display_data"
    },
    {
     "name": "stderr",
     "output_type": "stream",
     "text": [
      "No handles with labels found to put in legend.\n"
     ]
    },
    {
     "data": {
      "text/html": [
       "<div>\n",
       "<style scoped>\n",
       "    .dataframe tbody tr th:only-of-type {\n",
       "        vertical-align: middle;\n",
       "    }\n",
       "\n",
       "    .dataframe tbody tr th {\n",
       "        vertical-align: top;\n",
       "    }\n",
       "\n",
       "    .dataframe thead th {\n",
       "        text-align: right;\n",
       "    }\n",
       "</style>\n",
       "<table border=\"1\" class=\"dataframe\">\n",
       "  <thead>\n",
       "    <tr style=\"text-align: right;\">\n",
       "      <th></th>\n",
       "      <th>p_16</th>\n",
       "      <th>p_50</th>\n",
       "      <th>p_84</th>\n",
       "      <th>max</th>\n",
       "      <th>min</th>\n",
       "      <th>sem</th>\n",
       "      <th>skewness</th>\n",
       "      <th>std</th>\n",
       "    </tr>\n",
       "    <tr>\n",
       "      <th>N</th>\n",
       "      <th></th>\n",
       "      <th></th>\n",
       "      <th></th>\n",
       "      <th></th>\n",
       "      <th></th>\n",
       "      <th></th>\n",
       "      <th></th>\n",
       "      <th></th>\n",
       "    </tr>\n",
       "  </thead>\n",
       "  <tbody>\n",
       "    <tr>\n",
       "      <th>5</th>\n",
       "      <td>0.144904</td>\n",
       "      <td>0.157309</td>\n",
       "      <td>1.303341</td>\n",
       "      <td>3.274491</td>\n",
       "      <td>0.131412</td>\n",
       "      <td>0.623192</td>\n",
       "      <td>1.499002</td>\n",
       "      <td>1.246384</td>\n",
       "    </tr>\n",
       "    <tr>\n",
       "      <th>55</th>\n",
       "      <td>3.270241</td>\n",
       "      <td>3.270269</td>\n",
       "      <td>3.270304</td>\n",
       "      <td>3.270367</td>\n",
       "      <td>3.270209</td>\n",
       "      <td>0.000026</td>\n",
       "      <td>0.767202</td>\n",
       "      <td>0.000051</td>\n",
       "    </tr>\n",
       "  </tbody>\n",
       "</table>\n",
       "</div>"
      ],
      "text/plain": [
       "        p_16      p_50      p_84       max       min       sem  skewness  \\\n",
       "N                                                                          \n",
       "5   0.144904  0.157309  1.303341  3.274491  0.131412  0.623192  1.499002   \n",
       "55  3.270241  3.270269  3.270304  3.270367  3.270209  0.000026  0.767202   \n",
       "\n",
       "         std  \n",
       "N             \n",
       "5   1.246384  \n",
       "55  0.000051  "
      ]
     },
     "metadata": {},
     "output_type": "display_data"
    },
    {
     "name": "stderr",
     "output_type": "stream",
     "text": [
      "No handles with labels found to put in legend.\n"
     ]
    },
    {
     "data": {
      "image/png": "[encoded data removed]",
      "text/plain": [
       "<Figure size 1080x360 with 3 Axes>"
      ]
     },
     "metadata": {
      "needs_background": "light"
     },
     "output_type": "display_data"
    }
   ],
   "source": [
    "def periods(simulated_periods, P0,label,FIG=None):\n",
    "    import scipy.stats as sc\n",
    "    mean = simulated_periods.groupby(simulated_periods['N'],).median()\n",
    "    p16 =  simulated_periods.groupby(simulated_periods['N'],).agg(lambda x:np.percentile(x.dropna(),16))\n",
    "    p84 =  simulated_periods.groupby(simulated_periods['N'],).agg(lambda x:np.percentile(x.dropna(),84))\n",
    "    p100 =  simulated_periods.groupby(simulated_periods['N'],).agg(lambda x:np.max(x.dropna(),))\n",
    "    skewness  =  simulated_periods.groupby(simulated_periods['N'],).agg(lambda x:sc.skew(x.dropna(),))\n",
    "    std = simulated_periods.groupby(simulated_periods['N'],).agg(lambda x:np.std(x.dropna(),))\n",
    "    moments = {'P': [\n",
    "                                                                                lambda x: np.percentile(x.dropna(),16),\n",
    "                                                                                lambda x: np.percentile(x.dropna(),50),\n",
    "                                                                                lambda x: np.percentile(x.dropna(),84),\n",
    "                                                                                lambda x: np.max(x.dropna()),\n",
    "                                                                                lambda x: np.min(x.dropna()),\n",
    "                                                                                lambda x: sc.sem(x.dropna()),\n",
    "                                                                                lambda x: sc.skew(x.dropna()),\n",
    "                                                                                lambda x: np.std(x.dropna())]}\n",
    "    moments = simulated_periods.groupby(simulated_periods['N'],).agg(moments)\n",
    "    moments.columns = ['p_16', 'p_50', 'p_84','max','min','sem','skewness','std']\n",
    "    display(moments)\n",
    "    if FIG is None:\n",
    "        fig,ax = plt.subplots(1,3,figsize=(15,5))\n",
    "    else:\n",
    "        fig,ax=FIG\n",
    "    ax[0].plot(moments.index,moments.p_50)\n",
    "    ax[0].plot(moments.index,moments['max'])\n",
    "    ax[0].set_ylim(3,3.5)\n",
    "    ax[0].fill_between(moments.index,moments.p_16,moments.p_84,alpha=0.5,color='C0')\n",
    "    ax[0].axhline(P0,color='k',ls='dashed')\n",
    "    \n",
    "    ax[0].set_ylabel('Period [d]')\n",
    "    ax[1].plot(moments.index,moments.skewness,label=label)\n",
    "    \n",
    "    ax[2].plot(moments.index,moments['std'],label=label)\n",
    "    x = np.linspace(moments.index.min(),moments.index.max())\n",
    "    xm = moments[moments['std']==moments['std'].max()].index.values[0]\n",
    "    ax[2].set_xscale('log')\n",
    "    ax[2].plot(x,moments['std'].max()*np.sqrt(xm/x),'k',ls='dashed')\n",
    "    ax[2].set_yscale('log')\n",
    "    ax[2].set_ylabel('std')\n",
    "    ax[1].set_ylabel('Skewness')\n",
    "    for axx in ax:\n",
    "        axx.set_xlim(10,100)\n",
    "        axx.legend()\n",
    "        axx.set_xlabel('Number of measurements per band')\n",
    "    return fig,ax\n",
    "FIG=periods(Sim.simulated_periods['fast'],3.27,'fast')\n",
    "FIG=periods(Sim.simulated_periods['slow'],3.27,'slow',FIG)"
   ]
  },
  {
   "cell_type": "code",
   "execution_count": null,
   "metadata": {},
   "outputs": [],
   "source": []
  }
 ],
 "metadata": {
  "kernelspec": {
   "display_name": "Python 3",
   "language": "python",
   "name": "python3"
  },
  "language_info": {
   "codemirror_mode": {
    "name": "ipython",
    "version": 3
   },
   "file_extension": ".py",
   "mimetype": "text/x-python",
   "name": "python",
   "nbconvert_exporter": "python",
   "pygments_lexer": "ipython3",
   "version": "3.8.3"
  }
 },
 "nbformat": 4,
 "nbformat_minor": 4
}
